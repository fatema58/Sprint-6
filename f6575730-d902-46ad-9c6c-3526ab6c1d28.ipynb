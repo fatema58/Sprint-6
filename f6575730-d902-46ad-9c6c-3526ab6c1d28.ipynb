{
 "cells": [
  {
   "cell_type": "markdown",
   "metadata": {},
   "source": [
    "Data Analysis report for Zuber"
   ]
  },
  {
   "cell_type": "markdown",
   "metadata": {},
   "source": [
    "Zuber is a new ride-sharing company that's launching in Chicago. In this report we will find patterns in the available information. We want to understand passenger preferences and the impact of external factors on rides.\n",
    "\n",
    "We will study a database, analyze data from competitors, and test a hypothesis about the impact of weather on ride frequency."
   ]
  },
  {
   "cell_type": "code",
   "execution_count": 1,
   "metadata": {},
   "outputs": [],
   "source": [
    "import pandas as pd\n",
    "import matplotlib.pyplot as plt\n",
    "from scipy.stats import ttest_ind"
   ]
  },
  {
   "cell_type": "markdown",
   "metadata": {},
   "source": [
    "Import the files"
   ]
  },
  {
   "cell_type": "code",
   "execution_count": 2,
   "metadata": {},
   "outputs": [],
   "source": [
    "file_path_01 = \"/datasets/project_sql_result_01.csv\""
   ]
  },
  {
   "cell_type": "code",
   "execution_count": 3,
   "metadata": {},
   "outputs": [],
   "source": [
    "file_path_04 = \"/datasets/project_sql_result_04.csv\""
   ]
  },
  {
   "cell_type": "code",
   "execution_count": 4,
   "metadata": {},
   "outputs": [],
   "source": [
    "data = pd.read_csv(\"/datasets/project_sql_result_07.csv\")"
   ]
  },
  {
   "cell_type": "code",
   "execution_count": 5,
   "metadata": {},
   "outputs": [
    {
     "name": "stdout",
     "output_type": "stream",
     "text": [
      "                      company_name  trips_amount\n",
      "0                        Flash Cab         19558\n",
      "1        Taxi Affiliation Services         11422\n",
      "2                Medallion Leasing         10367\n",
      "3                       Yellow Cab          9888\n",
      "4  Taxi Affiliation Service Yellow          9299\n"
     ]
    }
   ],
   "source": [
    "df_01 = pd.read_csv(file_path_01)\n",
    "print(df_01.head())"
   ]
  },
  {
   "cell_type": "code",
   "execution_count": 6,
   "metadata": {},
   "outputs": [
    {
     "name": "stdout",
     "output_type": "stream",
     "text": [
      "  dropoff_location_name  average_trips\n",
      "0                  Loop   10727.466667\n",
      "1           River North    9523.666667\n",
      "2         Streeterville    6664.666667\n",
      "3             West Loop    5163.666667\n",
      "4                O'Hare    2546.900000\n"
     ]
    }
   ],
   "source": [
    "df_04 = pd.read_csv(file_path_04)\n",
    "print(df_04.head())"
   ]
  },
  {
   "cell_type": "markdown",
   "metadata": {},
   "source": [
    "Study the data they contain"
   ]
  },
  {
   "cell_type": "markdown",
   "metadata": {},
   "source": [
    "Study the data from project_sql_result_01.csv"
   ]
  },
  {
   "cell_type": "code",
   "execution_count": 7,
   "metadata": {},
   "outputs": [
    {
     "name": "stdout",
     "output_type": "stream",
     "text": [
      "Data from project_sql_result_01.csv:\n",
      "Shape of DataFrame: (64, 2)\n"
     ]
    }
   ],
   "source": [
    "print(\"Data from project_sql_result_01.csv:\")\n",
    "print(\"Shape of DataFrame:\", df_01.shape)"
   ]
  },
  {
   "cell_type": "code",
   "execution_count": 8,
   "metadata": {},
   "outputs": [
    {
     "name": "stdout",
     "output_type": "stream",
     "text": [
      "\n",
      "Summary Information:\n",
      "<class 'pandas.core.frame.DataFrame'>\n",
      "RangeIndex: 64 entries, 0 to 63\n",
      "Data columns (total 2 columns):\n",
      " #   Column        Non-Null Count  Dtype \n",
      "---  ------        --------------  ----- \n",
      " 0   company_name  64 non-null     object\n",
      " 1   trips_amount  64 non-null     int64 \n",
      "dtypes: int64(1), object(1)\n",
      "memory usage: 1.1+ KB\n",
      "None\n"
     ]
    }
   ],
   "source": [
    "print(\"\\nSummary Information:\")\n",
    "print(df_01.info())"
   ]
  },
  {
   "cell_type": "code",
   "execution_count": 9,
   "metadata": {},
   "outputs": [
    {
     "name": "stdout",
     "output_type": "stream",
     "text": [
      "\n",
      "Column Names: Index(['company_name', 'trips_amount'], dtype='object')\n"
     ]
    }
   ],
   "source": [
    "print(\"\\nColumn Names:\", df_01.columns)\n"
   ]
  },
  {
   "cell_type": "code",
   "execution_count": 10,
   "metadata": {},
   "outputs": [
    {
     "name": "stdout",
     "output_type": "stream",
     "text": [
      "\n",
      "Summary Statistics:\n",
      "       trips_amount\n",
      "count     64.000000\n",
      "mean    2145.484375\n",
      "std     3812.310186\n",
      "min        2.000000\n",
      "25%       20.750000\n",
      "50%      178.500000\n",
      "75%     2106.500000\n",
      "max    19558.000000\n"
     ]
    }
   ],
   "source": [
    "print(\"\\nSummary Statistics:\")\n",
    "print(df_01.describe())"
   ]
  },
  {
   "cell_type": "code",
   "execution_count": 11,
   "metadata": {},
   "outputs": [
    {
     "name": "stdout",
     "output_type": "stream",
     "text": [
      "\n",
      "Value Counts for 'company_name':\n",
      "4053 - 40193 Adwar H. Nikola        1\n",
      "Top Cab Affiliation                 1\n",
      "2192 - 73487 Zeymane Corp           1\n",
      "Leonard Cab Co                      1\n",
      "4615 - 83503 Tyrone Henderson       1\n",
      "                                   ..\n",
      "Chicago Star Taxicab                1\n",
      "Chicago Taxicab                     1\n",
      "City Service                        1\n",
      "Taxi Affiliation Services           1\n",
      "American United Taxi Affiliation    1\n",
      "Name: company_name, Length: 64, dtype: int64\n"
     ]
    }
   ],
   "source": [
    "print(\"\\nValue Counts for 'company_name':\")\n",
    "print(df_01['company_name'].value_counts())"
   ]
  },
  {
   "cell_type": "code",
   "execution_count": 12,
   "metadata": {},
   "outputs": [
    {
     "data": {
      "text/plain": [
       "0"
      ]
     },
     "execution_count": 12,
     "metadata": {},
     "output_type": "execute_result"
    }
   ],
   "source": [
    "df_01.duplicated().sum()"
   ]
  },
  {
   "cell_type": "code",
   "execution_count": 13,
   "metadata": {},
   "outputs": [
    {
     "data": {
      "text/plain": [
       "company_name    0\n",
       "trips_amount    0\n",
       "dtype: int64"
      ]
     },
     "execution_count": 13,
     "metadata": {},
     "output_type": "execute_result"
    }
   ],
   "source": [
    "df_01.isnull().sum()"
   ]
  },
  {
   "cell_type": "code",
   "execution_count": 14,
   "metadata": {},
   "outputs": [
    {
     "name": "stdout",
     "output_type": "stream",
     "text": [
      "\n",
      "Data from project_sql_result_04.csv:\n",
      "Shape of DataFrame: (94, 2)\n"
     ]
    }
   ],
   "source": [
    "# Study the data from project_sql_result_04.csv\n",
    "print(\"\\nData from project_sql_result_04.csv:\")\n",
    "print(\"Shape of DataFrame:\", df_04.shape)"
   ]
  },
  {
   "cell_type": "code",
   "execution_count": 15,
   "metadata": {},
   "outputs": [
    {
     "name": "stdout",
     "output_type": "stream",
     "text": [
      "\n",
      "Summary Information:\n",
      "<class 'pandas.core.frame.DataFrame'>\n",
      "RangeIndex: 94 entries, 0 to 93\n",
      "Data columns (total 2 columns):\n",
      " #   Column                 Non-Null Count  Dtype  \n",
      "---  ------                 --------------  -----  \n",
      " 0   dropoff_location_name  94 non-null     object \n",
      " 1   average_trips          94 non-null     float64\n",
      "dtypes: float64(1), object(1)\n",
      "memory usage: 1.6+ KB\n",
      "None\n"
     ]
    }
   ],
   "source": [
    "print(\"\\nSummary Information:\")\n",
    "print(df_04.info())"
   ]
  },
  {
   "cell_type": "code",
   "execution_count": 16,
   "metadata": {},
   "outputs": [
    {
     "name": "stdout",
     "output_type": "stream",
     "text": [
      "\n",
      "Column Names: Index(['dropoff_location_name', 'average_trips'], dtype='object')\n"
     ]
    }
   ],
   "source": [
    "print(\"\\nColumn Names:\", df_04.columns)\n"
   ]
  },
  {
   "cell_type": "code",
   "execution_count": 17,
   "metadata": {},
   "outputs": [
    {
     "name": "stdout",
     "output_type": "stream",
     "text": [
      "\n",
      "Summary Statistics:\n",
      "       average_trips\n",
      "count      94.000000\n",
      "mean      599.953728\n",
      "std      1714.591098\n",
      "min         1.800000\n",
      "25%        14.266667\n",
      "50%        52.016667\n",
      "75%       298.858333\n",
      "max     10727.466667\n"
     ]
    }
   ],
   "source": [
    "print(\"\\nSummary Statistics:\")\n",
    "print(df_04.describe())"
   ]
  },
  {
   "cell_type": "code",
   "execution_count": 18,
   "metadata": {},
   "outputs": [
    {
     "name": "stdout",
     "output_type": "stream",
     "text": [
      "\n",
      "Value Counts for 'dropoff_location_name':\n",
      "Fuller Park          1\n",
      "East Village         1\n",
      "Loop                 1\n",
      "Bridgeport           1\n",
      "Lincoln Park         1\n",
      "                    ..\n",
      "Little Italy, UIC    1\n",
      "North Lawndale       1\n",
      "Albany Park          1\n",
      "Rogers Park          1\n",
      "Grand Boulevard      1\n",
      "Name: dropoff_location_name, Length: 94, dtype: int64\n"
     ]
    }
   ],
   "source": [
    "print(\"\\nValue Counts for 'dropoff_location_name':\")\n",
    "print(df_04['dropoff_location_name'].value_counts())"
   ]
  },
  {
   "cell_type": "code",
   "execution_count": 19,
   "metadata": {},
   "outputs": [
    {
     "data": {
      "text/plain": [
       "0"
      ]
     },
     "execution_count": 19,
     "metadata": {},
     "output_type": "execute_result"
    }
   ],
   "source": [
    "df_04.duplicated().sum()"
   ]
  },
  {
   "cell_type": "code",
   "execution_count": 20,
   "metadata": {},
   "outputs": [
    {
     "data": {
      "text/plain": [
       "dropoff_location_name    0\n",
       "average_trips            0\n",
       "dtype: int64"
      ]
     },
     "execution_count": 20,
     "metadata": {},
     "output_type": "execute_result"
    }
   ],
   "source": [
    "df_04.isnull().sum()"
   ]
  },
  {
   "cell_type": "markdown",
   "metadata": {},
   "source": [
    "Make sure the data types are correct"
   ]
  },
  {
   "cell_type": "code",
   "execution_count": 21,
   "metadata": {},
   "outputs": [
    {
     "name": "stdout",
     "output_type": "stream",
     "text": [
      "Data types for project_sql_result_01.csv:\n",
      "company_name    object\n",
      "trips_amount     int64\n",
      "dtype: object\n"
     ]
    }
   ],
   "source": [
    "# Check data types of project_sql_result_01.csv\n",
    "print(\"Data types for project_sql_result_01.csv:\")\n",
    "print(df_01.dtypes)"
   ]
  },
  {
   "cell_type": "code",
   "execution_count": 22,
   "metadata": {},
   "outputs": [
    {
     "name": "stdout",
     "output_type": "stream",
     "text": [
      "\n",
      "Data types for project_sql_result_04.csv:\n",
      "dropoff_location_name     object\n",
      "average_trips            float64\n",
      "dtype: object\n"
     ]
    }
   ],
   "source": [
    "# Check data types of project_sql_result_04.csv\n",
    "print(\"\\nData types for project_sql_result_04.csv:\")\n",
    "print(df_04.dtypes)"
   ]
  },
  {
   "cell_type": "markdown",
   "metadata": {},
   "source": [
    "Intermediate Conclusion\n",
    "The first dataset provides information about taxi companies and their performance in terms of the number of rides provided during the specified period.\n",
    "The second dataset provides insights into the popularity of different neighborhoods as dropoff locations for taxi rides during the same period.\n",
    "By analyzing these datasets, we can gain insights into taxi usage patterns, identify key players in the taxi industry, and understand the demand for taxi services across various neighborhoods in Chicago."
   ]
  },
  {
   "cell_type": "markdown",
   "metadata": {},
   "source": [
    "Identify the top 10 neighborhoods in terms of drop-offs"
   ]
  },
  {
   "cell_type": "code",
   "execution_count": 27,
   "metadata": {},
   "outputs": [
    {
     "data": {
      "text/html": [
       "<div>\n",
       "<style scoped>\n",
       "    .dataframe tbody tr th:only-of-type {\n",
       "        vertical-align: middle;\n",
       "    }\n",
       "\n",
       "    .dataframe tbody tr th {\n",
       "        vertical-align: top;\n",
       "    }\n",
       "\n",
       "    .dataframe thead th {\n",
       "        text-align: right;\n",
       "    }\n",
       "</style>\n",
       "<table border=\"1\" class=\"dataframe\">\n",
       "  <thead>\n",
       "    <tr style=\"text-align: right;\">\n",
       "      <th></th>\n",
       "      <th>dropoff_location_name</th>\n",
       "      <th>average_trips</th>\n",
       "    </tr>\n",
       "  </thead>\n",
       "  <tbody>\n",
       "    <tr>\n",
       "      <th>0</th>\n",
       "      <td>Loop</td>\n",
       "      <td>10727.466667</td>\n",
       "    </tr>\n",
       "    <tr>\n",
       "      <th>1</th>\n",
       "      <td>River North</td>\n",
       "      <td>9523.666667</td>\n",
       "    </tr>\n",
       "    <tr>\n",
       "      <th>2</th>\n",
       "      <td>Streeterville</td>\n",
       "      <td>6664.666667</td>\n",
       "    </tr>\n",
       "    <tr>\n",
       "      <th>3</th>\n",
       "      <td>West Loop</td>\n",
       "      <td>5163.666667</td>\n",
       "    </tr>\n",
       "    <tr>\n",
       "      <th>4</th>\n",
       "      <td>O'Hare</td>\n",
       "      <td>2546.900000</td>\n",
       "    </tr>\n",
       "    <tr>\n",
       "      <th>5</th>\n",
       "      <td>Lake View</td>\n",
       "      <td>2420.966667</td>\n",
       "    </tr>\n",
       "    <tr>\n",
       "      <th>6</th>\n",
       "      <td>Grant Park</td>\n",
       "      <td>2068.533333</td>\n",
       "    </tr>\n",
       "    <tr>\n",
       "      <th>7</th>\n",
       "      <td>Museum Campus</td>\n",
       "      <td>1510.000000</td>\n",
       "    </tr>\n",
       "    <tr>\n",
       "      <th>8</th>\n",
       "      <td>Gold Coast</td>\n",
       "      <td>1364.233333</td>\n",
       "    </tr>\n",
       "    <tr>\n",
       "      <th>9</th>\n",
       "      <td>Sheffield &amp; DePaul</td>\n",
       "      <td>1259.766667</td>\n",
       "    </tr>\n",
       "  </tbody>\n",
       "</table>\n",
       "</div>"
      ],
      "text/plain": [
       "  dropoff_location_name  average_trips\n",
       "0                  Loop   10727.466667\n",
       "1           River North    9523.666667\n",
       "2         Streeterville    6664.666667\n",
       "3             West Loop    5163.666667\n",
       "4                O'Hare    2546.900000\n",
       "5             Lake View    2420.966667\n",
       "6            Grant Park    2068.533333\n",
       "7         Museum Campus    1510.000000\n",
       "8            Gold Coast    1364.233333\n",
       "9    Sheffield & DePaul    1259.766667"
      ]
     },
     "execution_count": 27,
     "metadata": {},
     "output_type": "execute_result"
    }
   ],
   "source": [
    "# Sort the DataFrame by 'average_trips' column in descending order\n",
    "top_neighborhoods = df_04.sort_values(by='average_trips', ascending=False)\n",
    "\n",
    "# Select the top 10 neighborhoods\n",
    "top_10_neighborhoods = top_neighborhoods.head(10)\n",
    "top_10_neighborhoods\n"
   ]
  },
  {
   "cell_type": "markdown",
   "metadata": {},
   "source": [
    "Make graphs: taxi companies and number of rides, top 10 neighborhoods by number of dropoffs"
   ]
  },
  {
   "cell_type": "code",
   "execution_count": 36,
   "metadata": {},
   "outputs": [
    {
     "data": {
      "image/png": "[encoded data removed]",
      "text/plain": [
       "<Figure size 1296x864 with 1 Axes>"
      ]
     },
     "metadata": {
      "needs_background": "light"
     },
     "output_type": "display_data"
    }
   ],
   "source": [
    "y = range(len(df_01))  # Use company indices as y-values\n",
    "x = df_01['trips_amount']\n",
    "labels = df_01['company_name']\n",
    "\n",
    "# Plot the scatter plot for taxi companies and number of rides\n",
    "plt.figure(figsize=(18, 12))\n",
    "plt.scatter(x, y, color='skyblue')\n",
    "plt.title('Number of Rides by Taxi Company')\n",
    "plt.ylabel('Taxi Company')\n",
    "plt.xlabel('Number of Rides')\n",
    "plt.yticks(y, labels)  # Set y-ticks to company names\n",
    "plt.gca().invert_yaxis()  # Invert y-axis to display companies from top to bottom\n",
    "plt.show()"
   ]
  },
  {
   "cell_type": "markdown",
   "metadata": {},
   "source": [
    "Taxi Companies and Number of Rides:\n",
    "\n",
    "The graph shows the distribution of rides among different taxi companies.\n",
    "We can observe which taxi companies are the most active or popular based on the number of rides they provide.\n",
    "Companies with higher bars have more rides, indicating they may have a larger fleet, better coverage, or better service quality, attracting more customers such as Flash cabs.\n",
    "Analyzing this graph can help identify market leaders and potential areas for partnership or competition."
   ]
  },
  {
   "cell_type": "code",
   "execution_count": 37,
   "metadata": {},
   "outputs": [
    {
     "data": {
      "text/plain": [
       "<Figure size 864x432 with 0 Axes>"
      ]
     },
     "metadata": {},
     "output_type": "display_data"
    },
    {
     "data": {
      "image/png": "[encoded data removed]",
      "text/plain": [
       "<Figure size 432x288 with 1 Axes>"
      ]
     },
     "metadata": {
      "needs_background": "light"
     },
     "output_type": "display_data"
    }
   ],
   "source": [
    "# Plot the bar chart for top 10 neighborhoods by number of drop-offs\n",
    "plt.figure(figsize=(12, 6))\n",
    "top_10_neighborhoods.plot(kind='bar', color='lightgreen')\n",
    "plt.title('Top 10 Neighborhoods by Number of Drop-offs')\n",
    "plt.xlabel('Neighborhood')\n",
    "plt.ylabel('Number of Drop-offs')\n",
    "plt.xticks(rotation=45)\n",
    "plt.show()"
   ]
  },
  {
   "cell_type": "markdown",
   "metadata": {},
   "source": [
    "Top 10 Neighborhoods by Number of Drop-offs:\n",
    "\n",
    "The graph displays the top 10 neighborhoods where taxi drop-offs are most frequent.\n",
    "Neighborhoods with higher bars experience more drop-offs, indicating they are popular destinations for taxi rides or have high demand for transportation services.\n",
    "These neighborhoods might include commercial areas, tourist attractions, residential hubs, or transportation hubs like airports or train stations.\n",
    "Understanding the distribution of drop-offs can be valuable for taxi companies to optimize their operations, allocate resources efficiently, and tailor their services to meet demand in these high-traffic areas.\n"
   ]
  },
  {
   "cell_type": "markdown",
   "metadata": {},
   "source": [
    "In conclusion, analyzing these graphs provides insights into the dynamics of the taxi service industry in Chicago. It helps identify key players, understand customer preferences and demand patterns, and inform strategic decision-making for taxi companies aiming to improve their services and market position."
   ]
  },
  {
   "cell_type": "markdown",
   "metadata": {},
   "source": [
    "Test the hypothesis:\n",
    "\n",
    "\"The average duration of rides from the Loop to O'Hare International Airport changes on rainy Saturdays.\" \n",
    "\n",
    "Decide where to set the significance level (alpha) on your own."
   ]
  },
  {
   "cell_type": "markdown",
   "metadata": {},
   "source": [
    "To test the hypothesis \"The average duration of rides from the Loop to O'Hare International Airport changes on rainy Saturdays,\" we need to define our null and alternative hypotheses:\n",
    "\n",
    "Null Hypothesis (H0): The average duration of rides from the Loop to O'Hare International Airport is the same on rainy Saturdays as on non-rainy Saturdays.\n",
    "\n",
    "H0: μ_rainy = μ_non-rainy\n",
    "Alternative Hypothesis (H1): The average duration of rides from the Loop to O'Hare International Airport differs on rainy Saturdays compared to non-rainy Saturdays.\n",
    "\n",
    "H1: μ_rainy ≠ μ_non-rainy\n"
   ]
  },
  {
   "cell_type": "code",
   "execution_count": 66,
   "metadata": {},
   "outputs": [],
   "source": [
    "# Convert 'start_ts' to datetime\n",
    "data['start_ts'] = pd.to_datetime(data['start_ts'])\n"
   ]
  },
  {
   "cell_type": "code",
   "execution_count": 74,
   "metadata": {},
   "outputs": [
    {
     "data": {
      "text/plain": [
       "0       Saturday\n",
       "1       Saturday\n",
       "2       Saturday\n",
       "3       Saturday\n",
       "4       Saturday\n",
       "          ...   \n",
       "1063    Saturday\n",
       "1064    Saturday\n",
       "1065    Saturday\n",
       "1066    Saturday\n",
       "1067    Saturday\n",
       "Name: day_of_week, Length: 1068, dtype: object"
      ]
     },
     "execution_count": 74,
     "metadata": {},
     "output_type": "execute_result"
    }
   ],
   "source": [
    "# Extract day of the week and weather condition\n",
    "data['day_of_week'] = data['start_ts'].dt.day_name()\n",
    "data['day_of_week']"
   ]
  },
  {
   "cell_type": "code",
   "execution_count": 75,
   "metadata": {},
   "outputs": [
    {
     "data": {
      "text/html": [
       "<div>\n",
       "<style scoped>\n",
       "    .dataframe tbody tr th:only-of-type {\n",
       "        vertical-align: middle;\n",
       "    }\n",
       "\n",
       "    .dataframe tbody tr th {\n",
       "        vertical-align: top;\n",
       "    }\n",
       "\n",
       "    .dataframe thead th {\n",
       "        text-align: right;\n",
       "    }\n",
       "</style>\n",
       "<table border=\"1\" class=\"dataframe\">\n",
       "  <thead>\n",
       "    <tr style=\"text-align: right;\">\n",
       "      <th></th>\n",
       "      <th>start_ts</th>\n",
       "      <th>weather_conditions</th>\n",
       "      <th>duration_seconds</th>\n",
       "      <th>day_of_week</th>\n",
       "      <th>is_rainy</th>\n",
       "    </tr>\n",
       "  </thead>\n",
       "  <tbody>\n",
       "    <tr>\n",
       "      <th>0</th>\n",
       "      <td>2017-11-25 16:00:00</td>\n",
       "      <td>Good</td>\n",
       "      <td>2410.0</td>\n",
       "      <td>Saturday</td>\n",
       "      <td>False</td>\n",
       "    </tr>\n",
       "    <tr>\n",
       "      <th>1</th>\n",
       "      <td>2017-11-25 14:00:00</td>\n",
       "      <td>Good</td>\n",
       "      <td>1920.0</td>\n",
       "      <td>Saturday</td>\n",
       "      <td>False</td>\n",
       "    </tr>\n",
       "    <tr>\n",
       "      <th>2</th>\n",
       "      <td>2017-11-25 12:00:00</td>\n",
       "      <td>Good</td>\n",
       "      <td>1543.0</td>\n",
       "      <td>Saturday</td>\n",
       "      <td>False</td>\n",
       "    </tr>\n",
       "    <tr>\n",
       "      <th>3</th>\n",
       "      <td>2017-11-04 10:00:00</td>\n",
       "      <td>Good</td>\n",
       "      <td>2512.0</td>\n",
       "      <td>Saturday</td>\n",
       "      <td>False</td>\n",
       "    </tr>\n",
       "    <tr>\n",
       "      <th>4</th>\n",
       "      <td>2017-11-11 07:00:00</td>\n",
       "      <td>Good</td>\n",
       "      <td>1440.0</td>\n",
       "      <td>Saturday</td>\n",
       "      <td>False</td>\n",
       "    </tr>\n",
       "    <tr>\n",
       "      <th>...</th>\n",
       "      <td>...</td>\n",
       "      <td>...</td>\n",
       "      <td>...</td>\n",
       "      <td>...</td>\n",
       "      <td>...</td>\n",
       "    </tr>\n",
       "    <tr>\n",
       "      <th>1063</th>\n",
       "      <td>2017-11-25 11:00:00</td>\n",
       "      <td>Good</td>\n",
       "      <td>0.0</td>\n",
       "      <td>Saturday</td>\n",
       "      <td>False</td>\n",
       "    </tr>\n",
       "    <tr>\n",
       "      <th>1064</th>\n",
       "      <td>2017-11-11 10:00:00</td>\n",
       "      <td>Good</td>\n",
       "      <td>1318.0</td>\n",
       "      <td>Saturday</td>\n",
       "      <td>False</td>\n",
       "    </tr>\n",
       "    <tr>\n",
       "      <th>1065</th>\n",
       "      <td>2017-11-11 13:00:00</td>\n",
       "      <td>Good</td>\n",
       "      <td>2100.0</td>\n",
       "      <td>Saturday</td>\n",
       "      <td>False</td>\n",
       "    </tr>\n",
       "    <tr>\n",
       "      <th>1066</th>\n",
       "      <td>2017-11-11 08:00:00</td>\n",
       "      <td>Good</td>\n",
       "      <td>1380.0</td>\n",
       "      <td>Saturday</td>\n",
       "      <td>False</td>\n",
       "    </tr>\n",
       "    <tr>\n",
       "      <th>1067</th>\n",
       "      <td>2017-11-04 16:00:00</td>\n",
       "      <td>Bad</td>\n",
       "      <td>2834.0</td>\n",
       "      <td>Saturday</td>\n",
       "      <td>False</td>\n",
       "    </tr>\n",
       "  </tbody>\n",
       "</table>\n",
       "<p>1068 rows × 5 columns</p>\n",
       "</div>"
      ],
      "text/plain": [
       "                start_ts weather_conditions  duration_seconds day_of_week  \\\n",
       "0    2017-11-25 16:00:00               Good            2410.0    Saturday   \n",
       "1    2017-11-25 14:00:00               Good            1920.0    Saturday   \n",
       "2    2017-11-25 12:00:00               Good            1543.0    Saturday   \n",
       "3    2017-11-04 10:00:00               Good            2512.0    Saturday   \n",
       "4    2017-11-11 07:00:00               Good            1440.0    Saturday   \n",
       "...                  ...                ...               ...         ...   \n",
       "1063 2017-11-25 11:00:00               Good               0.0    Saturday   \n",
       "1064 2017-11-11 10:00:00               Good            1318.0    Saturday   \n",
       "1065 2017-11-11 13:00:00               Good            2100.0    Saturday   \n",
       "1066 2017-11-11 08:00:00               Good            1380.0    Saturday   \n",
       "1067 2017-11-04 16:00:00                Bad            2834.0    Saturday   \n",
       "\n",
       "      is_rainy  \n",
       "0        False  \n",
       "1        False  \n",
       "2        False  \n",
       "3        False  \n",
       "4        False  \n",
       "...        ...  \n",
       "1063     False  \n",
       "1064     False  \n",
       "1065     False  \n",
       "1066     False  \n",
       "1067     False  \n",
       "\n",
       "[1068 rows x 5 columns]"
      ]
     },
     "execution_count": 75,
     "metadata": {},
     "output_type": "execute_result"
    }
   ],
   "source": [
    "# Filter data for Saturdays\n",
    "saturday_data = data[data['day_of_week'] == 'Saturday']\n",
    "saturday_data"
   ]
  },
  {
   "cell_type": "code",
   "execution_count": 103,
   "metadata": {},
   "outputs": [
    {
     "name": "stdout",
     "output_type": "stream",
     "text": [
      "Unique Weather Conditions: ['Good' 'Bad']\n"
     ]
    }
   ],
   "source": [
    "# Check unique values in the 'weather_conditions' column\n",
    "unique_weather_conditions = saturday_data['weather_conditions'].unique()\n",
    "print(\"Unique Weather Conditions:\", unique_weather_conditions)"
   ]
  },
  {
   "cell_type": "code",
   "execution_count": 104,
   "metadata": {},
   "outputs": [],
   "source": [
    "rainy_saturdays = saturday_data[saturday_data['weather_conditions'] == 'Bad']\n",
    "non_rainy_saturdays = saturday_data[saturday_data['weather_conditions'] == 'Good']\n"
   ]
  },
  {
   "cell_type": "code",
   "execution_count": 105,
   "metadata": {},
   "outputs": [
    {
     "data": {
      "text/html": [
       "<div>\n",
       "<style scoped>\n",
       "    .dataframe tbody tr th:only-of-type {\n",
       "        vertical-align: middle;\n",
       "    }\n",
       "\n",
       "    .dataframe tbody tr th {\n",
       "        vertical-align: top;\n",
       "    }\n",
       "\n",
       "    .dataframe thead th {\n",
       "        text-align: right;\n",
       "    }\n",
       "</style>\n",
       "<table border=\"1\" class=\"dataframe\">\n",
       "  <thead>\n",
       "    <tr style=\"text-align: right;\">\n",
       "      <th></th>\n",
       "      <th>start_ts</th>\n",
       "      <th>weather_conditions</th>\n",
       "      <th>duration_seconds</th>\n",
       "      <th>day_of_week</th>\n",
       "      <th>is_rainy</th>\n",
       "    </tr>\n",
       "  </thead>\n",
       "  <tbody>\n",
       "    <tr>\n",
       "      <th>6</th>\n",
       "      <td>2017-11-04 16:00:00</td>\n",
       "      <td>Bad</td>\n",
       "      <td>2969.0</td>\n",
       "      <td>Saturday</td>\n",
       "      <td>False</td>\n",
       "    </tr>\n",
       "    <tr>\n",
       "      <th>30</th>\n",
       "      <td>2017-11-18 12:00:00</td>\n",
       "      <td>Bad</td>\n",
       "      <td>1980.0</td>\n",
       "      <td>Saturday</td>\n",
       "      <td>False</td>\n",
       "    </tr>\n",
       "    <tr>\n",
       "      <th>34</th>\n",
       "      <td>2017-11-04 17:00:00</td>\n",
       "      <td>Bad</td>\n",
       "      <td>2460.0</td>\n",
       "      <td>Saturday</td>\n",
       "      <td>False</td>\n",
       "    </tr>\n",
       "    <tr>\n",
       "      <th>51</th>\n",
       "      <td>2017-11-04 16:00:00</td>\n",
       "      <td>Bad</td>\n",
       "      <td>2760.0</td>\n",
       "      <td>Saturday</td>\n",
       "      <td>False</td>\n",
       "    </tr>\n",
       "    <tr>\n",
       "      <th>52</th>\n",
       "      <td>2017-11-18 12:00:00</td>\n",
       "      <td>Bad</td>\n",
       "      <td>2460.0</td>\n",
       "      <td>Saturday</td>\n",
       "      <td>False</td>\n",
       "    </tr>\n",
       "    <tr>\n",
       "      <th>...</th>\n",
       "      <td>...</td>\n",
       "      <td>...</td>\n",
       "      <td>...</td>\n",
       "      <td>...</td>\n",
       "      <td>...</td>\n",
       "    </tr>\n",
       "    <tr>\n",
       "      <th>1031</th>\n",
       "      <td>2017-11-18 12:00:00</td>\n",
       "      <td>Bad</td>\n",
       "      <td>2560.0</td>\n",
       "      <td>Saturday</td>\n",
       "      <td>False</td>\n",
       "    </tr>\n",
       "    <tr>\n",
       "      <th>1032</th>\n",
       "      <td>2017-11-18 10:00:00</td>\n",
       "      <td>Bad</td>\n",
       "      <td>1908.0</td>\n",
       "      <td>Saturday</td>\n",
       "      <td>False</td>\n",
       "    </tr>\n",
       "    <tr>\n",
       "      <th>1053</th>\n",
       "      <td>2017-11-18 12:00:00</td>\n",
       "      <td>Bad</td>\n",
       "      <td>2400.0</td>\n",
       "      <td>Saturday</td>\n",
       "      <td>False</td>\n",
       "    </tr>\n",
       "    <tr>\n",
       "      <th>1061</th>\n",
       "      <td>2017-11-18 16:00:00</td>\n",
       "      <td>Bad</td>\n",
       "      <td>2186.0</td>\n",
       "      <td>Saturday</td>\n",
       "      <td>False</td>\n",
       "    </tr>\n",
       "    <tr>\n",
       "      <th>1067</th>\n",
       "      <td>2017-11-04 16:00:00</td>\n",
       "      <td>Bad</td>\n",
       "      <td>2834.0</td>\n",
       "      <td>Saturday</td>\n",
       "      <td>False</td>\n",
       "    </tr>\n",
       "  </tbody>\n",
       "</table>\n",
       "<p>180 rows × 5 columns</p>\n",
       "</div>"
      ],
      "text/plain": [
       "                start_ts weather_conditions  duration_seconds day_of_week  \\\n",
       "6    2017-11-04 16:00:00                Bad            2969.0    Saturday   \n",
       "30   2017-11-18 12:00:00                Bad            1980.0    Saturday   \n",
       "34   2017-11-04 17:00:00                Bad            2460.0    Saturday   \n",
       "51   2017-11-04 16:00:00                Bad            2760.0    Saturday   \n",
       "52   2017-11-18 12:00:00                Bad            2460.0    Saturday   \n",
       "...                  ...                ...               ...         ...   \n",
       "1031 2017-11-18 12:00:00                Bad            2560.0    Saturday   \n",
       "1032 2017-11-18 10:00:00                Bad            1908.0    Saturday   \n",
       "1053 2017-11-18 12:00:00                Bad            2400.0    Saturday   \n",
       "1061 2017-11-18 16:00:00                Bad            2186.0    Saturday   \n",
       "1067 2017-11-04 16:00:00                Bad            2834.0    Saturday   \n",
       "\n",
       "      is_rainy  \n",
       "6        False  \n",
       "30       False  \n",
       "34       False  \n",
       "51       False  \n",
       "52       False  \n",
       "...        ...  \n",
       "1031     False  \n",
       "1032     False  \n",
       "1053     False  \n",
       "1061     False  \n",
       "1067     False  \n",
       "\n",
       "[180 rows x 5 columns]"
      ]
     },
     "execution_count": 105,
     "metadata": {},
     "output_type": "execute_result"
    }
   ],
   "source": [
    "rainy_saturdays"
   ]
  },
  {
   "cell_type": "code",
   "execution_count": 106,
   "metadata": {},
   "outputs": [
    {
     "data": {
      "text/html": [
       "<div>\n",
       "<style scoped>\n",
       "    .dataframe tbody tr th:only-of-type {\n",
       "        vertical-align: middle;\n",
       "    }\n",
       "\n",
       "    .dataframe tbody tr th {\n",
       "        vertical-align: top;\n",
       "    }\n",
       "\n",
       "    .dataframe thead th {\n",
       "        text-align: right;\n",
       "    }\n",
       "</style>\n",
       "<table border=\"1\" class=\"dataframe\">\n",
       "  <thead>\n",
       "    <tr style=\"text-align: right;\">\n",
       "      <th></th>\n",
       "      <th>start_ts</th>\n",
       "      <th>weather_conditions</th>\n",
       "      <th>duration_seconds</th>\n",
       "      <th>day_of_week</th>\n",
       "      <th>is_rainy</th>\n",
       "    </tr>\n",
       "  </thead>\n",
       "  <tbody>\n",
       "    <tr>\n",
       "      <th>0</th>\n",
       "      <td>2017-11-25 16:00:00</td>\n",
       "      <td>Good</td>\n",
       "      <td>2410.0</td>\n",
       "      <td>Saturday</td>\n",
       "      <td>False</td>\n",
       "    </tr>\n",
       "    <tr>\n",
       "      <th>1</th>\n",
       "      <td>2017-11-25 14:00:00</td>\n",
       "      <td>Good</td>\n",
       "      <td>1920.0</td>\n",
       "      <td>Saturday</td>\n",
       "      <td>False</td>\n",
       "    </tr>\n",
       "    <tr>\n",
       "      <th>2</th>\n",
       "      <td>2017-11-25 12:00:00</td>\n",
       "      <td>Good</td>\n",
       "      <td>1543.0</td>\n",
       "      <td>Saturday</td>\n",
       "      <td>False</td>\n",
       "    </tr>\n",
       "    <tr>\n",
       "      <th>3</th>\n",
       "      <td>2017-11-04 10:00:00</td>\n",
       "      <td>Good</td>\n",
       "      <td>2512.0</td>\n",
       "      <td>Saturday</td>\n",
       "      <td>False</td>\n",
       "    </tr>\n",
       "    <tr>\n",
       "      <th>4</th>\n",
       "      <td>2017-11-11 07:00:00</td>\n",
       "      <td>Good</td>\n",
       "      <td>1440.0</td>\n",
       "      <td>Saturday</td>\n",
       "      <td>False</td>\n",
       "    </tr>\n",
       "    <tr>\n",
       "      <th>...</th>\n",
       "      <td>...</td>\n",
       "      <td>...</td>\n",
       "      <td>...</td>\n",
       "      <td>...</td>\n",
       "      <td>...</td>\n",
       "    </tr>\n",
       "    <tr>\n",
       "      <th>1062</th>\n",
       "      <td>2017-11-11 06:00:00</td>\n",
       "      <td>Good</td>\n",
       "      <td>1500.0</td>\n",
       "      <td>Saturday</td>\n",
       "      <td>False</td>\n",
       "    </tr>\n",
       "    <tr>\n",
       "      <th>1063</th>\n",
       "      <td>2017-11-25 11:00:00</td>\n",
       "      <td>Good</td>\n",
       "      <td>0.0</td>\n",
       "      <td>Saturday</td>\n",
       "      <td>False</td>\n",
       "    </tr>\n",
       "    <tr>\n",
       "      <th>1064</th>\n",
       "      <td>2017-11-11 10:00:00</td>\n",
       "      <td>Good</td>\n",
       "      <td>1318.0</td>\n",
       "      <td>Saturday</td>\n",
       "      <td>False</td>\n",
       "    </tr>\n",
       "    <tr>\n",
       "      <th>1065</th>\n",
       "      <td>2017-11-11 13:00:00</td>\n",
       "      <td>Good</td>\n",
       "      <td>2100.0</td>\n",
       "      <td>Saturday</td>\n",
       "      <td>False</td>\n",
       "    </tr>\n",
       "    <tr>\n",
       "      <th>1066</th>\n",
       "      <td>2017-11-11 08:00:00</td>\n",
       "      <td>Good</td>\n",
       "      <td>1380.0</td>\n",
       "      <td>Saturday</td>\n",
       "      <td>False</td>\n",
       "    </tr>\n",
       "  </tbody>\n",
       "</table>\n",
       "<p>888 rows × 5 columns</p>\n",
       "</div>"
      ],
      "text/plain": [
       "                start_ts weather_conditions  duration_seconds day_of_week  \\\n",
       "0    2017-11-25 16:00:00               Good            2410.0    Saturday   \n",
       "1    2017-11-25 14:00:00               Good            1920.0    Saturday   \n",
       "2    2017-11-25 12:00:00               Good            1543.0    Saturday   \n",
       "3    2017-11-04 10:00:00               Good            2512.0    Saturday   \n",
       "4    2017-11-11 07:00:00               Good            1440.0    Saturday   \n",
       "...                  ...                ...               ...         ...   \n",
       "1062 2017-11-11 06:00:00               Good            1500.0    Saturday   \n",
       "1063 2017-11-25 11:00:00               Good               0.0    Saturday   \n",
       "1064 2017-11-11 10:00:00               Good            1318.0    Saturday   \n",
       "1065 2017-11-11 13:00:00               Good            2100.0    Saturday   \n",
       "1066 2017-11-11 08:00:00               Good            1380.0    Saturday   \n",
       "\n",
       "      is_rainy  \n",
       "0        False  \n",
       "1        False  \n",
       "2        False  \n",
       "3        False  \n",
       "4        False  \n",
       "...        ...  \n",
       "1062     False  \n",
       "1063     False  \n",
       "1064     False  \n",
       "1065     False  \n",
       "1066     False  \n",
       "\n",
       "[888 rows x 5 columns]"
      ]
     },
     "execution_count": 106,
     "metadata": {},
     "output_type": "execute_result"
    }
   ],
   "source": [
    "non_rainy_saturdays"
   ]
  },
  {
   "cell_type": "code",
   "execution_count": 107,
   "metadata": {},
   "outputs": [],
   "source": [
    "# Perform two-sample t-test\n",
    "t_statistic, p_value = ttest_ind(rainy_saturdays['duration_seconds'], non_rainy_saturdays['duration_seconds'])\n",
    "\n"
   ]
  },
  {
   "cell_type": "markdown",
   "metadata": {},
   "source": [
    "data['is_rainy'] = data['weather_conditions'].str.contains('rain', case=False)"
   ]
  },
  {
   "cell_type": "code",
   "execution_count": 108,
   "metadata": {},
   "outputs": [
    {
     "name": "stdout",
     "output_type": "stream",
     "text": [
      "t-statistic: 6.946177714041499\n",
      "p-value: 6.517970327099473e-12\n"
     ]
    }
   ],
   "source": [
    "# Print results\n",
    "print(\"t-statistic:\", t_statistic)\n",
    "print(\"p-value:\", p_value)"
   ]
  },
  {
   "cell_type": "code",
   "execution_count": 109,
   "metadata": {},
   "outputs": [],
   "source": [
    "# Set significance level (alpha)\n",
    "alpha = 0.05"
   ]
  },
  {
   "cell_type": "code",
   "execution_count": 110,
   "metadata": {},
   "outputs": [
    {
     "name": "stdout",
     "output_type": "stream",
     "text": [
      "t-statistic: 6.946177714041499\n",
      "p-value: 6.517970327099473e-12\n"
     ]
    }
   ],
   "source": [
    "# Print results\n",
    "print(\"t-statistic:\", t_statistic)\n",
    "print(\"p-value:\", p_value)\n"
   ]
  },
  {
   "cell_type": "code",
   "execution_count": 111,
   "metadata": {},
   "outputs": [
    {
     "name": "stdout",
     "output_type": "stream",
     "text": [
      "Reject the null hypothesis. The average duration of rides from the Loop to O'Hare International Airport changes on rainy Saturdays.\n"
     ]
    }
   ],
   "source": [
    "# Compare p-value to alpha\n",
    "if p_value < alpha:\n",
    "    print(\"Reject the null hypothesis. The average duration of rides from the Loop to O'Hare International Airport changes on rainy Saturdays.\")\n",
    "else:\n",
    "    print(\"Fail to reject the null hypothesis. There is no significant evidence that the average duration of rides changes on rainy Saturdays.\")"
   ]
  },
  {
   "cell_type": "markdown",
   "metadata": {},
   "source": [
    "Explain:\n",
    "\n",
    "how you formed the null and alternative hypotheses\n",
    "what criterion you used to test the hypotheses and why"
   ]
  },
  {
   "cell_type": "markdown",
   "metadata": {},
   "source": [
    "Formulation of Null and Alternative Hypotheses:\n",
    "\n",
    "Null Hypothesis (H0): The average duration of rides from the Loop to O'Hare International Airport is the same on rainy Saturdays as on non-rainy Saturdays. In mathematical notation:\n",
    "\n",
    "H0: μ_rainy = μ_non_rainy\n",
    "\n",
    "Alternative Hypothesis (H1): The average duration of rides from the Loop to O'Hare International Airport changes on rainy Saturdays. In mathematical notation:\n",
    "\n",
    "H1: μ_rainy ≠ μ_non_rainy\n",
    "\n",
    "Here, μ_rainy represents the population mean duration of rides on rainy Saturdays, and μ_non_rainy represents the population mean duration of rides on non-rainy Saturdays."
   ]
  },
  {
   "cell_type": "markdown",
   "metadata": {},
   "source": [
    "Criterion Used to Test the Hypotheses:\n",
    "\n",
    "Two-Sample T-Test:\n",
    "The t-test is a statistical test used to determine if there is a significant difference between the means of two independent groups.\n",
    "In this case, we used a two-sample t-test to compare the mean ride durations of two independent samples: rides on rainy Saturdays and rides on non-rainy Saturdays.\n",
    "The t-test calculates a test statistic (t-statistic) and a p-value. The test statistic measures the difference between the sample means relative to the variation in the data, while the p-value indicates the probability of observing the data if the null hypothesis is true.\n",
    "We chose a significance level (alpha) of 0.05, which is a common threshold for hypothesis testing. This means that we are willing to accept a 5% chance of making a Type I error (incorrectly rejecting a true null hypothesis)."
   ]
  },
  {
   "cell_type": "markdown",
   "metadata": {},
   "source": [
    "Decision Rule:\n",
    "If the p-value is less than the chosen significance level (alpha), typically 0.05, we reject the null hypothesis in favor of the alternative hypothesis, concluding that there is sufficient evidence to suggest that the average duration of rides differs between rainy and non-rainy Saturdays.\n",
    "If the p-value is greater than or equal to the significance level, we fail to reject the null hypothesis, indicating that there is not enough evidence to conclude that there is a difference in the average duration of rides between rainy and non-rainy Saturdays."
   ]
  },
  {
   "cell_type": "markdown",
   "metadata": {},
   "source": [
    "Overall Conclusion: Analyzing Taxi Ride Data in Chicago\n",
    "\n",
    "In this project, we conducted a comprehensive analysis of taxi ride data in Chicago to gain insights into various aspects of taxi operations, including ride frequencies, dropoff locations, and the impact of weather conditions on ride durations. We utilized multiple datasets containing information about taxi companies, ride volumes, dropoff locations, and weather conditions to perform exploratory data analysis and hypothesis testing.\n",
    "\n",
    "First, we examined the dataset containing information about taxi companies and the number of rides they provided on specific dates. We visualized the distribution of ride volumes among different companies, identified top-performing companies, and explored potential patterns or trends in ride frequencies.\n",
    "\n",
    "Next, we analyzed data on dropoff locations and the average number of rides ending in each neighborhood. We visualized the distribution of ride volumes across neighborhoods, identified popular dropoff locations, and gained insights into the geographical demand for taxi services in Chicago.\n",
    "\n",
    "Furthermore, we investigated the hypothesis that the average duration of rides from the Loop to O'Hare International Airport changes on rainy Saturdays. However, due to insufficient data for statistical testing, we were able to draw conclusive insights regarding the impact of weather conditions on ride durations. The hypothesis was rejected because rain did affect the average duration of rides on saturdays. \n",
    "Overall, this project provided valuable insights into taxi operations in Chicago, including ride frequencies, dropoff patterns, and potential factors influencing ride durations. Moving forward, further data collection efforts and more robust analyses could enhance our understanding of taxi services and inform decision-making processes in the transportation industry."
   ]
  },
  {
   "cell_type": "markdown",
   "metadata": {},
   "source": [
    "<div class=\"alert alert-success\"; style=\"border-left: 7px solid green\">\n",
    "<b>Review summary</b> \n",
    "    \n",
    "Fatema, the project is great! You have very strong analytical skills, knowledge of research tools and understanding of statistical methods. But still there are a few comments in the project and I will ask you to correct them so that your project becomes even better!\n",
    "    "
   ]
  }
 ],
 "metadata": {
  "kernelspec": {
   "display_name": "Python 3 (ipykernel)",
   "language": "python",
   "name": "python3"
  },
  "language_info": {
   "codemirror_mode": {
    "name": "ipython",
    "version": 3
   },
   "file_extension": ".py",
   "mimetype": "text/x-python",
   "name": "python",
   "nbconvert_exporter": "python",
   "pygments_lexer": "ipython3",
   "version": "3.9.19"
  },
  "toc": {
   "base_numbering": 1,
   "nav_menu": {},
   "number_sections": true,
   "sideBar": true,
   "skip_h1_title": true,
   "title_cell": "Table of Contents",
   "title_sidebar": "Contents",
   "toc_cell": false,
   "toc_position": {},
   "toc_section_display": true,
   "toc_window_display": false
  }
 },
 "nbformat": 4,
 "nbformat_minor": 2
}
